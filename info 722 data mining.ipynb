{
 "cells": [
  {
   "cell_type": "code",
   "execution_count": 2,
   "metadata": {},
   "outputs": [
    {
     "name": "stdout",
     "output_type": "stream",
     "text": [
      "root\n",
      " |-- CLIENTNUM: string (nullable = true)\n",
      " |-- Attrition_Flag: string (nullable = true)\n",
      " |-- Customer_Age: string (nullable = true)\n",
      " |-- Gender: string (nullable = true)\n",
      " |-- Dependent_count: string (nullable = true)\n",
      " |-- Education_Level: string (nullable = true)\n",
      " |-- Marital_Status: string (nullable = true)\n",
      " |-- Income_Category: string (nullable = true)\n",
      " |-- Card_Category: string (nullable = true)\n",
      " |-- Months_on_book: string (nullable = true)\n",
      " |-- Total_Relationship_Count: string (nullable = true)\n",
      " |-- Months_Inactive_12_mon: string (nullable = true)\n",
      " |-- Contacts_Count_12_mon: string (nullable = true)\n",
      " |-- Credit_Limit: string (nullable = true)\n",
      " |-- Total_Revolving_Bal: string (nullable = true)\n",
      " |-- Avg_Open_To_Buy: string (nullable = true)\n",
      " |-- Total_Amt_Chng_Q4_Q1: string (nullable = true)\n",
      " |-- Total_Trans_Amt: string (nullable = true)\n",
      " |-- Total_Trans_Ct: string (nullable = true)\n",
      " |-- Total_Ct_Chng_Q4_Q1: string (nullable = true)\n",
      " |-- Avg_Utilization_Ratio: string (nullable = true)\n",
      "\n"
     ]
    }
   ],
   "source": [
    "import findspark\n",
    "findspark.init('/home/ubuntu/spark-2.1.1-bin-hadoop2.7')\n",
    "import pyspark\n",
    "from pyspark.sql import SparkSession\n",
    "spark = SparkSession.builder.appName('tonytan').getOrCreate()\n",
    "df = spark.read.load('./BankChurners.csv',format=\"csv\",header=\"true\")\n",
    "df.printSchema()"
   ]
  },
  {
   "cell_type": "code",
   "execution_count": 3,
   "metadata": {},
   "outputs": [
    {
     "data": {
      "text/plain": [
       "10127"
      ]
     },
     "execution_count": 3,
     "metadata": {},
     "output_type": "execute_result"
    }
   ],
   "source": [
    "df.count()"
   ]
  },
  {
   "cell_type": "code",
   "execution_count": 4,
   "metadata": {},
   "outputs": [
    {
     "data": {
      "text/plain": [
       "21"
      ]
     },
     "execution_count": 4,
     "metadata": {},
     "output_type": "execute_result"
    }
   ],
   "source": [
    "len(df.columns)"
   ]
  },
  {
   "cell_type": "code",
   "execution_count": 5,
   "metadata": {},
   "outputs": [
    {
     "name": "stdout",
     "output_type": "stream",
     "text": [
      "768805383\n",
      "Existing Customer\n",
      "45\n",
      "M\n",
      "3\n",
      "High School\n",
      "Married\n",
      "$60K - $80K\n",
      "Blue\n",
      "39\n",
      "5\n",
      "1\n",
      "3\n",
      "12691\n",
      "777\n",
      "11914\n",
      "1.335\n",
      "1144\n",
      "42\n",
      "1.625\n",
      "0.061\n"
     ]
    }
   ],
   "source": [
    "for item in df.head():\n",
    "    print(item)"
   ]
  },
  {
   "cell_type": "code",
   "execution_count": 6,
   "metadata": {},
   "outputs": [
    {
     "name": "stdout",
     "output_type": "stream",
     "text": [
      "+-------+-------------------+-----------------+-----------------+------+------------------+---------------+--------------+---------------+-------------+------------------+------------------------+----------------------+---------------------+-----------------+-------------------+-----------------+--------------------+------------------+-----------------+-------------------+---------------------+\n",
      "|summary|          CLIENTNUM|   Attrition_Flag|     Customer_Age|Gender|   Dependent_count|Education_Level|Marital_Status|Income_Category|Card_Category|    Months_on_book|Total_Relationship_Count|Months_Inactive_12_mon|Contacts_Count_12_mon|     Credit_Limit|Total_Revolving_Bal|  Avg_Open_To_Buy|Total_Amt_Chng_Q4_Q1|   Total_Trans_Amt|   Total_Trans_Ct|Total_Ct_Chng_Q4_Q1|Avg_Utilization_Ratio|\n",
      "+-------+-------------------+-----------------+-----------------+------+------------------+---------------+--------------+---------------+-------------+------------------+------------------------+----------------------+---------------------+-----------------+-------------------+-----------------+--------------------+------------------+-----------------+-------------------+---------------------+\n",
      "|  count|              10127|            10127|            10127| 10127|             10127|          10127|         10127|          10127|        10127|             10127|                   10127|                 10127|                10127|            10126|              10127|            10126|               10127|             10126|            10127|              10127|                10127|\n",
      "|   mean|7.391776063336625E8|             null|46.32596030413745|  null|2.3462032191172115|           null|          null|           null|         null|35.928409203120374|      3.8125802310654686|    2.3411671768539546|   2.4553174681544387|8631.346148528432| 1162.8140614199665|7467.111603792116|  0.7599406536980376|4404.4173414971365|64.85869457884863| 0.7122223758269962|   0.2748935518909845|\n",
      "| stddev|3.690378345023116E7|             null|8.016814032549046|  null|  1.29890834890379|           null|          null|           null|         null|  7.98641633087208|        1.55440786533883|    1.0106223994182844|   1.1062251426359249|9089.019814600306|  814.9873352357533|9088.842943919224|  0.2192067692307027|3397.1336566170035|23.47257044923301|0.23808609133294137|  0.27569146925238736|\n",
      "|    min|          708082083|Attrited Customer|               26|     F|                 0|        College|      Divorced|        $120K +|         Blue|                13|                       1|                     0|                    0|            10001|                  0|               10|                   0|              1000|               10|                  0|                    0|\n",
      "|    max|          828343083|Existing Customer|               73|     M|                 5|        Unknown|       Unknown|        Unknown|       Silver|                56|                       6|                     6|                    6|             9995|                999|             9996|               3.397|               999|               99|              3.714|                0.999|\n",
      "+-------+-------------------+-----------------+-----------------+------+------------------+---------------+--------------+---------------+-------------+------------------+------------------------+----------------------+---------------------+-----------------+-------------------+-----------------+--------------------+------------------+-----------------+-------------------+---------------------+\n",
      "\n"
     ]
    }
   ],
   "source": [
    "df.describe().show()"
   ]
  },
  {
   "cell_type": "code",
   "execution_count": 8,
   "metadata": {},
   "outputs": [
    {
     "data": {
      "image/png": "[encoded data removed]",
      "text/plain": [
       "<Figure size 432x288 with 1 Axes>"
      ]
     },
     "metadata": {},
     "output_type": "display_data"
    },
    {
     "data": {
      "image/png": "[encoded data removed]",
      "text/plain": [
       "<Figure size 432x288 with 1 Axes>"
      ]
     },
     "metadata": {},
     "output_type": "display_data"
    },
    {
     "data": {
      "image/png": "[encoded data removed]",
      "text/plain": [
       "<Figure size 432x288 with 1 Axes>"
      ]
     },
     "metadata": {},
     "output_type": "display_data"
    },
    {
     "data": {
      "image/png": "[encoded data removed]",
      "text/plain": [
       "<Figure size 432x288 with 1 Axes>"
      ]
     },
     "metadata": {},
     "output_type": "display_data"
    },
    {
     "data": {
      "image/png": "[encoded data removed]",
      "text/plain": [
       "<Figure size 432x288 with 1 Axes>"
      ]
     },
     "metadata": {},
     "output_type": "display_data"
    },
    {
     "data": {
      "image/png": "[encoded data removed]",
      "text/plain": [
       "<Figure size 432x288 with 1 Axes>"
      ]
     },
     "metadata": {},
     "output_type": "display_data"
    }
   ],
   "source": [
    "import numpy as np\n",
    "import matplotlib.pyplot as plt\n",
    "\n",
    "\n",
    "# data exploration \n",
    "sexArr = np.array(df.select('Gender').collect())\n",
    "plt.hist(sexArr)\n",
    "plt.show()\n",
    "\n",
    "sexArr = np.array(df.select('Attrition_Flag').collect())\n",
    "plt.hist(sexArr)\n",
    "plt.show()\n",
    "\n",
    "sexArr = np.array(df.select('Customer_Age').collect())\n",
    "plt.hist(sexArr)\n",
    "plt.show()\n",
    "\n",
    "sexArr = np.array(df.select('Education_level').collect())\n",
    "plt.hist(sexArr)\n",
    "plt.show()\n",
    "\n",
    "sexArr = np.array(df.select('Income_Category').collect())\n",
    "plt.hist(sexArr)\n",
    "plt.show()\n",
    "\n",
    "a = np.array(df.select('Card_Category').collect())\n",
    "plt.hist(a)\n",
    "plt.show()"
   ]
  },
  {
   "cell_type": "code",
   "execution_count": 10,
   "metadata": {},
   "outputs": [
    {
     "name": "stdout",
     "output_type": "stream",
     "text": [
      "CLIENTNUM            0\n",
      "Attrition_Flag       0\n",
      "Customer_Age         0\n",
      "Gender               0\n",
      "Dependent_count      0\n",
      "Education_Level      0\n",
      "Marital_Status       0\n",
      "Income_Category      0\n",
      "Card_Category        0\n",
      "Months_on_book       0\n",
      "Total_Relationship_Count 0\n",
      "Months_Inactive_12_mon 0\n",
      "Contacts_Count_12_mon 0\n",
      "Credit_Limit         1\n",
      "Total_Revolving_Bal  0\n",
      "Avg_Open_To_Buy      1\n",
      "Total_Amt_Chng_Q4_Q1 0\n",
      "Total_Trans_Amt      1\n",
      "Total_Trans_Ct       0\n",
      "Total_Ct_Chng_Q4_Q1  0\n",
      "Avg_Utilization_Ratio 0\n"
     ]
    }
   ],
   "source": [
    "# null values\n",
    "for col in df.columns:\n",
    "    print(col.ljust(20), df.filter(df[col].isNull()).count())"
   ]
  },
  {
   "cell_type": "code",
   "execution_count": 11,
   "metadata": {},
   "outputs": [
    {
     "name": "stdout",
     "output_type": "stream",
     "text": [
      "['Attrition_Flag', 'Customer_Age', 'Gender', 'Dependent_count', 'Education_Level', 'Marital_Status', 'Income_Category', 'Card_Category', 'Months_on_book', 'Total_Relationship_Count', 'Months_Inactive_12_mon', 'Contacts_Count_12_mon', 'Credit_Limit', 'Total_Revolving_Bal', 'Avg_Open_To_Buy', 'Total_Amt_Chng_Q4_Q1', 'Total_Trans_Amt', 'Total_Trans_Ct', 'Total_Ct_Chng_Q4_Q1', 'Avg_Utilization_Ratio']\n",
      "20\n"
     ]
    }
   ],
   "source": [
    "# reduce data\n",
    "df3=df.drop(\"CLIENTNUM\")\n",
    "print(df3.columns)\n",
    "print(len(df3.columns))"
   ]
  },
  {
   "cell_type": "code",
   "execution_count": 12,
   "metadata": {},
   "outputs": [
    {
     "data": {
      "text/plain": [
       "10124"
      ]
     },
     "execution_count": 12,
     "metadata": {},
     "output_type": "execute_result"
    }
   ],
   "source": [
    "# remove all the null\n",
    "df4=df3.na.drop()\n",
    "df4.count()"
   ]
  },
  {
   "cell_type": "code",
   "execution_count": 13,
   "metadata": {},
   "outputs": [
    {
     "data": {
      "text/plain": [
       "['Attrition_Flag',\n",
       " 'Customer_Age',\n",
       " 'Gender',\n",
       " 'Dependent_count',\n",
       " 'Education_Level',\n",
       " 'Marital_Status',\n",
       " 'Income_Category',\n",
       " 'Card_Category',\n",
       " 'Months_on_book',\n",
       " 'Total_Relationship_Count',\n",
       " 'Months_Inactive_12_mon',\n",
       " 'Contacts_Count_12_mon',\n",
       " 'Credit_Limit',\n",
       " 'Total_Revolving_Bal',\n",
       " 'Avg_Open_To_Buy',\n",
       " 'Total_Amt_Chng_Q4_Q1',\n",
       " 'Total_Ct_Chng_Q4_Q1',\n",
       " 'Avg_Utilization_Ratio',\n",
       " 'Average_Amount_per_Transaction']"
      ]
     },
     "execution_count": 13,
     "metadata": {},
     "output_type": "execute_result"
    }
   ],
   "source": [
    "# construct the data\n",
    "df5 = df4.withColumn('Average_Amount_per_Transaction', df4['Total_Trans_Amt']/df4['Total_Trans_Ct']).\\\n",
    "            drop('Total_Trans_Amt', 'Total_Trans_Ct')\n",
    "df5.columns"
   ]
  },
  {
   "cell_type": "code",
   "execution_count": 14,
   "metadata": {},
   "outputs": [
    {
     "name": "stdout",
     "output_type": "stream",
     "text": [
      "19\n"
     ]
    }
   ],
   "source": [
    "print(len(df5.columns))"
   ]
  },
  {
   "cell_type": "code",
   "execution_count": 15,
   "metadata": {},
   "outputs": [
    {
     "name": "stdout",
     "output_type": "stream",
     "text": [
      "root\n",
      " |-- Attrition_Flag: string (nullable = true)\n",
      " |-- Customer_Age: string (nullable = true)\n",
      " |-- Gender: string (nullable = true)\n",
      " |-- Dependent_count: string (nullable = true)\n",
      " |-- Education_Level: string (nullable = true)\n",
      " |-- Marital_Status: string (nullable = true)\n",
      " |-- Income_Category: string (nullable = true)\n",
      " |-- Card_Category: string (nullable = true)\n",
      " |-- Months_on_book: string (nullable = true)\n",
      " |-- Total_Relationship_Count: string (nullable = true)\n",
      " |-- Months_Inactive_12_mon: string (nullable = true)\n",
      " |-- Contacts_Count_12_mon: string (nullable = true)\n",
      " |-- Credit_Limit: string (nullable = true)\n",
      " |-- Total_Revolving_Bal: string (nullable = true)\n",
      " |-- Avg_Open_To_Buy: string (nullable = true)\n",
      " |-- Total_Amt_Chng_Q4_Q1: string (nullable = true)\n",
      " |-- Total_Ct_Chng_Q4_Q1: string (nullable = true)\n",
      " |-- Avg_Utilization_Ratio: string (nullable = true)\n",
      " |-- Average_Amount_per_Transaction: double (nullable = true)\n",
      "\n"
     ]
    }
   ],
   "source": [
    "# change data type\n",
    "df5.printSchema()"
   ]
  },
  {
   "cell_type": "code",
   "execution_count": 16,
   "metadata": {},
   "outputs": [
    {
     "name": "stdout",
     "output_type": "stream",
     "text": [
      "root\n",
      " |-- Attrition_Flag: string (nullable = true)\n",
      " |-- Customer_Age: double (nullable = true)\n",
      " |-- Gender: string (nullable = true)\n",
      " |-- Dependent_count: double (nullable = true)\n",
      " |-- Education_Level: string (nullable = true)\n",
      " |-- Marital_Status: string (nullable = true)\n",
      " |-- Income_Category: string (nullable = true)\n",
      " |-- Card_Category: string (nullable = true)\n",
      " |-- Months_on_book: double (nullable = true)\n",
      " |-- Total_Relationship_Count: double (nullable = true)\n",
      " |-- Months_Inactive_12_mon: double (nullable = true)\n",
      " |-- Contacts_Count_12_mon: double (nullable = true)\n",
      " |-- Credit_Limit: double (nullable = true)\n",
      " |-- Total_Revolving_Bal: double (nullable = true)\n",
      " |-- Avg_Open_To_Buy: double (nullable = true)\n",
      " |-- Total_Amt_Chng_Q4_Q1: double (nullable = true)\n",
      " |-- Total_Ct_Chng_Q4_Q1: double (nullable = true)\n",
      " |-- Avg_Utilization_Ratio: double (nullable = true)\n",
      " |-- Average_Amount_per_Transaction: double (nullable = true)\n",
      "\n"
     ]
    }
   ],
   "source": [
    "from pyspark.sql.types import DoubleType\n",
    "df6 = df5.withColumn(\"Customer_Age\",df[\"Customer_Age\"].cast(DoubleType())) \\\n",
    "    .withColumn(\"Dependent_count\",df[\"Dependent_count\"].cast(DoubleType()))\\\n",
    "    .withColumn(\"Months_on_book\",df[\"Months_on_book\"].cast(DoubleType()))\\\n",
    "    .withColumn(\"Total_Relationship_Count\",df[\"Total_Relationship_Count\"].cast(DoubleType())) \\\n",
    "    .withColumn(\"Months_Inactive_12_mon\",df[\"Months_Inactive_12_mon\"].cast(DoubleType()))\\\n",
    "    .withColumn(\"Contacts_Count_12_mon\",df[\"Contacts_Count_12_mon\"].cast(DoubleType())) \\\n",
    "    .withColumn(\"Credit_Limit\",df[\"Credit_Limit\"].cast(DoubleType()))\\\n",
    "    .withColumn(\"Total_Revolving_Bal\",df[\"Total_Revolving_Bal\"].cast(DoubleType())) \\\n",
    "    .withColumn(\"Avg_Open_To_Buy\",df[\"Avg_Open_To_Buy\"].cast(DoubleType()))\\\n",
    "    .withColumn(\"Total_Amt_Chng_Q4_Q1\",df[\"Total_Amt_Chng_Q4_Q1\"].cast(DoubleType())) \\\n",
    "    .withColumn(\"Total_Ct_Chng_Q4_Q1\",df[\"Total_Ct_Chng_Q4_Q1\"].cast(DoubleType()))\\\n",
    "    .withColumn(\"Avg_Utilization_Ratio\",df[\"Avg_Utilization_Ratio\"].cast(DoubleType()))\n",
    "\n",
    "df6.printSchema()"
   ]
  },
  {
   "cell_type": "code",
   "execution_count": 17,
   "metadata": {},
   "outputs": [
    {
     "name": "stdout",
     "output_type": "stream",
     "text": [
      "+------------+---------------+--------------+------------------------+----------------------+---------------------+------------+-------------------+---------------+--------------------+-------------------+---------------------+------------------------------+------------+---------+------------+----------+---------+-------+\n",
      "|Customer_Age|Dependent_count|Months_on_book|Total_Relationship_Count|Months_Inactive_12_mon|Contacts_Count_12_mon|Credit_Limit|Total_Revolving_Bal|Avg_Open_To_Buy|Total_Amt_Chng_Q4_Q1|Total_Ct_Chng_Q4_Q1|Avg_Utilization_Ratio|Average_Amount_per_Transaction|AttritionNum|GenderNum|EducationNum|MaritalNum|IncomeNum|CardNum|\n",
      "+------------+---------------+--------------+------------------------+----------------------+---------------------+------------+-------------------+---------------+--------------------+-------------------+---------------------+------------------------------+------------+---------+------------+----------+---------+-------+\n",
      "|        45.0|            3.0|          39.0|                     5.0|                   1.0|                  3.0|     12691.0|              777.0|        11914.0|               1.335|              1.625|                0.061|            27.238095238095237|         0.0|      1.0|         1.0|       0.0|      3.0|    0.0|\n",
      "|        49.0|            5.0|          44.0|                     6.0|                   1.0|                  2.0|      8256.0|              864.0|         7392.0|               1.541|              3.714|                0.105|            39.121212121212125|         0.0|      0.0|         0.0|       1.0|      0.0|    0.0|\n",
      "|        51.0|            3.0|          36.0|                     4.0|                   1.0|                  0.0|      3418.0|                0.0|         3418.0|               2.594|              2.333|                  0.0|                         94.35|         0.0|      1.0|         0.0|       0.0|      2.0|    0.0|\n",
      "|        40.0|            4.0|          34.0|                     3.0|                   4.0|                  1.0|      3313.0|             2517.0|          796.0|               1.405|              2.333|                 0.76|                         58.55|         0.0|      0.0|         1.0|       2.0|      0.0|    0.0|\n",
      "+------------+---------------+--------------+------------------------+----------------------+---------------------+------------+-------------------+---------------+--------------------+-------------------+---------------------+------------------------------+------------+---------+------------+----------+---------+-------+\n",
      "only showing top 4 rows\n",
      "\n",
      "root\n",
      " |-- Customer_Age: double (nullable = true)\n",
      " |-- Dependent_count: double (nullable = true)\n",
      " |-- Months_on_book: double (nullable = true)\n",
      " |-- Total_Relationship_Count: double (nullable = true)\n",
      " |-- Months_Inactive_12_mon: double (nullable = true)\n",
      " |-- Contacts_Count_12_mon: double (nullable = true)\n",
      " |-- Credit_Limit: double (nullable = true)\n",
      " |-- Total_Revolving_Bal: double (nullable = true)\n",
      " |-- Avg_Open_To_Buy: double (nullable = true)\n",
      " |-- Total_Amt_Chng_Q4_Q1: double (nullable = true)\n",
      " |-- Total_Ct_Chng_Q4_Q1: double (nullable = true)\n",
      " |-- Avg_Utilization_Ratio: double (nullable = true)\n",
      " |-- Average_Amount_per_Transaction: double (nullable = true)\n",
      " |-- AttritionNum: double (nullable = true)\n",
      " |-- GenderNum: double (nullable = true)\n",
      " |-- EducationNum: double (nullable = true)\n",
      " |-- MaritalNum: double (nullable = true)\n",
      " |-- IncomeNum: double (nullable = true)\n",
      " |-- CardNum: double (nullable = true)\n",
      "\n"
     ]
    }
   ],
   "source": [
    "from pyspark.ml.feature import StringIndexer, VectorAssembler\n",
    "from pyspark.ml import Pipeline\n",
    "from pyspark.ml.tuning import CrossValidator, ParamGridBuilder\n",
    "\n",
    "stringIndex = [StringIndexer(inputCol=\"Attrition_Flag\", outputCol=\"AttritionNum\"),StringIndexer(inputCol=\"Gender\", outputCol=\"GenderNum\"),StringIndexer(inputCol=\"Education_Level\", outputCol=\"EducationNum\"),StringIndexer(inputCol=\"Marital_Status\", outputCol=\"MaritalNum\"),StringIndexer(inputCol=\"Income_Category\", outputCol=\"IncomeNum\"),StringIndexer(inputCol=\"Card_Category\", outputCol=\"CardNum\")]\n",
    "pipe=Pipeline(stages=stringIndex)\n",
    "stringIndex_model = pipe.fit(df6)\n",
    "df1_ = stringIndex_model.transform(df6)\n",
    "df7=df1_.drop(\"Attrition_Flag\",\"Gender\",\"Education_Level\",\"Marital_Status\",\"Income_Category\",\"Card_Category\")\n",
    "df7.show(4)\n",
    "df7.printSchema()"
   ]
  },
  {
   "cell_type": "code",
   "execution_count": 19,
   "metadata": {},
   "outputs": [
    {
     "name": "stdout",
     "output_type": "stream",
     "text": [
      "+--------------------------------------------------------------------------------------------------------------+------------+\n",
      "|features                                                                                                      |AttritionNum|\n",
      "+--------------------------------------------------------------------------------------------------------------+------------+\n",
      "|[45.0,3.0,39.0,5.0,1.0,3.0,12691.0,777.0,11914.0,1.335,1.625,0.061,27.238095238095237,0.0,1.0,1.0,0.0,3.0,0.0]|0.0         |\n",
      "|[49.0,5.0,44.0,6.0,1.0,2.0,8256.0,864.0,7392.0,1.541,3.714,0.105,39.121212121212125,0.0,0.0,0.0,1.0,0.0,0.0]  |0.0         |\n",
      "|[51.0,3.0,36.0,4.0,1.0,0.0,3418.0,0.0,3418.0,2.594,2.333,0.0,94.35,0.0,1.0,0.0,0.0,2.0,0.0]                   |0.0         |\n",
      "|[40.0,4.0,34.0,3.0,4.0,1.0,3313.0,2517.0,796.0,1.405,2.333,0.76,58.55,0.0,0.0,1.0,2.0,0.0,0.0]                |0.0         |\n",
      "+--------------------------------------------------------------------------------------------------------------+------------+\n",
      "only showing top 4 rows\n",
      "\n",
      "Coefficients: [1.0158991723099057e-11,1.553080781527152e-10,-4.265304002051217e-12,3.072637839870773e-10,-1.33407187747322e-10,-6.053214462303268e-10,-1.0877078664884399e-14,-8.34669005591412e-13,-4.3085512408791065e-15,5.900132475597978e-10,1.0843145344836881e-09,-1.6236999327805107e-09,-1.2447432475380445e-11,0.9999999995862916,-1.0530527107048067e-10,2.5537847549424376e-10,-1.0722168055461568e-10,-1.0480199906008213e-10,1.1178850946600248e-09]\n",
      "\n",
      "\n",
      "Intercept:8.582802604885129e-10\n"
     ]
    }
   ],
   "source": [
    "# reduce data\n",
    "from pyspark.ml.feature import StringIndexer, VectorAssembler\n",
    "from pyspark.ml import Pipeline\n",
    "from pyspark.ml.tuning import CrossValidator, ParamGridBuilder\n",
    "\n",
    "vec_asmbl = VectorAssembler(inputCols=df7.columns[0:], \n",
    "                           outputCol='features')\n",
    "\n",
    "df7_ = vec_asmbl.transform(df7).select('features', 'AttritionNum')\n",
    "df7_.show(4, truncate=False)\n",
    "\n",
    "\n",
    "from pyspark.ml.regression import LinearRegression\n",
    "train_data,test_data = df7_.randomSplit([0.8,0.2])\n",
    "lr = LinearRegression(labelCol='AttritionNum')\n",
    "lrModel = lr.fit(train_data)\n",
    "print(\"Coefficients: {}\".format(str(lrModel.coefficients)))\n",
    "print('\\n')\n",
    "print(\"Intercept:{}\".format(str(lrModel.intercept)))"
   ]
  },
  {
   "cell_type": "code",
   "execution_count": 25,
   "metadata": {},
   "outputs": [
    {
     "name": "stdout",
     "output_type": "stream",
     "text": [
      "+--------------------------------------------------------------------------------------------------+------------+\n",
      "|features                                                                                          |AttritionNum|\n",
      "+--------------------------------------------------------------------------------------------------+------------+\n",
      "|[45.0,3.0,39.0,5.0,1.0,3.0,12691.0,777.0,1.335,1.625,0.061,27.238095238095237,1.0,1.0,0.0,3.0,0.0]|0.0         |\n",
      "|[49.0,5.0,44.0,6.0,1.0,2.0,8256.0,864.0,1.541,3.714,0.105,39.121212121212125,0.0,0.0,1.0,0.0,0.0] |0.0         |\n",
      "|[51.0,3.0,36.0,4.0,1.0,0.0,3418.0,0.0,2.594,2.333,0.0,94.35,1.0,0.0,0.0,2.0,0.0]                  |0.0         |\n",
      "|[40.0,4.0,34.0,3.0,4.0,1.0,3313.0,2517.0,1.405,2.333,0.76,58.55,0.0,1.0,2.0,0.0,0.0]              |0.0         |\n",
      "+--------------------------------------------------------------------------------------------------+------------+\n",
      "only showing top 4 rows\n",
      "\n"
     ]
    }
   ],
   "source": [
    "#reduce data and separate features/target\n",
    "from pyspark.ml.feature import StringIndexer, VectorAssembler\n",
    "\n",
    "dfa=df7.drop(\"Avg_Open_To_Buy\")\n",
    "dfb=dfa.drop(\"AttritionNum\")\n",
    "\n",
    "vec_asmbl = VectorAssembler(inputCols=dfb.columns[0:], \n",
    "                           outputCol='features')\n",
    "\n",
    "df8 = vec_asmbl.transform(dfa).select('features', 'AttritionNum')\n",
    "df8.show(4, truncate=False)\n"
   ]
  },
  {
   "cell_type": "code",
   "execution_count": 26,
   "metadata": {},
   "outputs": [
    {
     "name": "stdout",
     "output_type": "stream",
     "text": [
      "0.8683291770573566\n",
      "DTC\n",
      "0.8261244499263108\n"
     ]
    }
   ],
   "source": [
    "#logistic regression\n",
    "from pyspark.ml import Pipeline\n",
    "from pyspark.ml.classification import LogisticRegression\n",
    "from pyspark.ml.evaluation import MulticlassClassificationEvaluator\n",
    "\n",
    "train_df, valid_df = df8.randomSplit([0.8,0.2])\n",
    "\n",
    "evaluator = MulticlassClassificationEvaluator(labelCol='AttritionNum', \n",
    "                                          metricName='accuracy')\n",
    "ridge = LogisticRegression(labelCol='AttritionNum', \n",
    "                        maxIter=100, \n",
    "                        elasticNetParam=0, # Ridge regression is choosen \n",
    "                        regParam=0.03)\n",
    "\n",
    "model = ridge.fit(train_df)\n",
    "pred = model.transform(valid_df)\n",
    "print(evaluator.evaluate(pred))\n",
    "\n",
    "from pyspark.ml.evaluation import BinaryClassificationEvaluator\n",
    "\n",
    "my_binary_eval = BinaryClassificationEvaluator(labelCol = 'AttritionNum')\n",
    "\n",
    "print(\"DTC\")\n",
    "print(my_binary_eval.evaluate(pred))"
   ]
  },
  {
   "cell_type": "code",
   "execution_count": 27,
   "metadata": {},
   "outputs": [
    {
     "name": "stdout",
     "output_type": "stream",
     "text": [
      "DTC\n",
      "0.38622073829531817\n",
      "RFC\n",
      "0.8993725615246111\n",
      "Here are the results!\n",
      "----------------------------------------\n",
      "A single decision tree has an accuracy of: 88.22%\n",
      "----------------------------------------\n",
      "A random forest ensemble has an accuracy of: 88.92%\n"
     ]
    }
   ],
   "source": [
    "#Decision tree and random forest\n",
    "from pyspark.ml.classification import DecisionTreeClassifier,RandomForestClassifier\n",
    "from pyspark.ml import Pipeline\n",
    "train_data,test_data = df8.randomSplit([0.8,0.2])\n",
    "dtc = DecisionTreeClassifier(labelCol='AttritionNum',featuresCol='features')\n",
    "rfc = RandomForestClassifier(labelCol='AttritionNum',featuresCol='features')\n",
    "\n",
    "dtc_model = dtc.fit(train_data)\n",
    "rfc_model = rfc.fit(train_data)\n",
    "\n",
    "\n",
    "dtc_predictions = dtc_model.transform(test_data)\n",
    "rfc_predictions = rfc_model.transform(test_data)\n",
    "\n",
    "from pyspark.ml.evaluation import BinaryClassificationEvaluator\n",
    "\n",
    "my_binary_eval = BinaryClassificationEvaluator(labelCol = 'AttritionNum')\n",
    "\n",
    "print(\"DTC\")\n",
    "print(my_binary_eval.evaluate(dtc_predictions))\n",
    "\n",
    "# RFC improves accuracy but also model complexity. RFC outperforms DTC in nearly every situation.\n",
    "print(\"RFC\")\n",
    "print(my_binary_eval.evaluate(rfc_predictions))\n",
    "\n",
    "\n",
    "\n",
    "from pyspark.ml.evaluation import MulticlassClassificationEvaluator\n",
    " \n",
    "acc_evaluator = MulticlassClassificationEvaluator(labelCol=\"AttritionNum\", predictionCol=\"prediction\", metricName=\"accuracy\")\n",
    "\n",
    "dtc_acc = acc_evaluator.evaluate(dtc_predictions)\n",
    "rfc_acc = acc_evaluator.evaluate(rfc_predictions)\n",
    "\n",
    "print(\"Here are the results!\")\n",
    "print('-'*40)\n",
    "print('A single decision tree has an accuracy of: {0:2.2f}%'.format(dtc_acc*100))\n",
    "print('-'*40)\n",
    "print('A random forest ensemble has an accuracy of: {0:2.2f}%'.format(rfc_acc*100))"
   ]
  },
  {
   "cell_type": "code",
   "execution_count": 29,
   "metadata": {},
   "outputs": [
    {
     "name": "stdout",
     "output_type": "stream",
     "text": [
      "0.8802753666566896\n",
      "DTC\n",
      "0.8481891846093598\n"
     ]
    }
   ],
   "source": [
    "# iteration Logistic regression\n",
    "from pyspark.ml import Pipeline\n",
    "from pyspark.ml.classification import LogisticRegression\n",
    "from pyspark.ml.evaluation import MulticlassClassificationEvaluator\n",
    "\n",
    "train_df, valid_df = df8.randomSplit([0.67,0.33])\n",
    "\n",
    "evaluator = MulticlassClassificationEvaluator(labelCol='AttritionNum', \n",
    "                                          metricName='accuracy')\n",
    "ridge = LogisticRegression(labelCol='AttritionNum', \n",
    "                        maxIter=100, \n",
    "                        elasticNetParam=0, # Ridge regression is choosen \n",
    "                        regParam=0.03)\n",
    "\n",
    "model = ridge.fit(train_df)\n",
    "pred = model.transform(valid_df)\n",
    "print(evaluator.evaluate(pred))\n",
    "\n",
    "from pyspark.ml.evaluation import BinaryClassificationEvaluator\n",
    "\n",
    "my_binary_eval = BinaryClassificationEvaluator(labelCol = 'AttritionNum')\n",
    "\n",
    "print(\"DTC\")\n",
    "print(my_binary_eval.evaluate(pred))"
   ]
  },
  {
   "cell_type": "code",
   "execution_count": 30,
   "metadata": {},
   "outputs": [
    {
     "name": "stdout",
     "output_type": "stream",
     "text": [
      "DTC\n",
      "0.4791455507574062\n",
      "RFC\n",
      "0.89460887258021\n",
      "GBT\n",
      "0.7746581423365283\n",
      "Here are the results!\n",
      "----------------------------------------\n",
      "A single decision tree has an accuracy of: 88.54%\n",
      "----------------------------------------\n",
      "A random forest ensemble has an accuracy of: 88.77%\n",
      "----------------------------------------\n",
      "An ensemble using GBT has an accuracy of: 90.38%\n"
     ]
    }
   ],
   "source": [
    "# Iterate DecisionTreeClassifier,GBTClassifier,RandomForestClassifier\n",
    "from pyspark.ml.classification import DecisionTreeClassifier,GBTClassifier,RandomForestClassifier\n",
    "from pyspark.ml import Pipeline\n",
    "train_data,test_data = df8.randomSplit([0.67,0.33])\n",
    "dtc = DecisionTreeClassifier(labelCol='AttritionNum',featuresCol='features')\n",
    "rfc = RandomForestClassifier(labelCol='AttritionNum',featuresCol='features')\n",
    "gbt = GBTClassifier(labelCol='AttritionNum',featuresCol='features')\n",
    "\n",
    "dtc_model = dtc.fit(train_data)\n",
    "rfc_model = rfc.fit(train_data)\n",
    "gbt_model = gbt.fit(train_data)\n",
    "\n",
    "\n",
    "dtc_predictions = dtc_model.transform(test_data)\n",
    "rfc_predictions = rfc_model.transform(test_data)\n",
    "gbt_predictions = gbt_model.transform(test_data)\n",
    "\n",
    "from pyspark.ml.evaluation import BinaryClassificationEvaluator\n",
    "\n",
    "my_binary_eval = BinaryClassificationEvaluator(labelCol = 'AttritionNum')\n",
    "\n",
    "print(\"DTC\")\n",
    "print(my_binary_eval.evaluate(dtc_predictions))\n",
    "\n",
    "# RFC improves accuracy but also model complexity. RFC outperforms DTC in nearly every situation.\n",
    "print(\"RFC\")\n",
    "print(my_binary_eval.evaluate(rfc_predictions))\n",
    "\n",
    "# We can't repeat these exact steps for GBT. If you print the schema of all three, you may be able to notice why.\n",
    "# Instead, let's redefine the object:\n",
    "my_binary_gbt_eval = BinaryClassificationEvaluator(labelCol='AttritionNum', rawPredictionCol='prediction')\n",
    "print(\"GBT\")\n",
    "print(my_binary_gbt_eval.evaluate(gbt_predictions))\n",
    "\n",
    "\n",
    "\n",
    "from pyspark.ml.evaluation import MulticlassClassificationEvaluator\n",
    " \n",
    "acc_evaluator = MulticlassClassificationEvaluator(labelCol=\"AttritionNum\", predictionCol=\"prediction\", metricName=\"accuracy\")\n",
    "\n",
    "dtc_acc = acc_evaluator.evaluate(dtc_predictions)\n",
    "rfc_acc = acc_evaluator.evaluate(rfc_predictions)\n",
    "gbt_acc = acc_evaluator.evaluate(gbt_predictions)\n",
    "\n",
    "print(\"Here are the results!\")\n",
    "print('-'*40)\n",
    "print('A single decision tree has an accuracy of: {0:2.2f}%'.format(dtc_acc*100))\n",
    "print('-'*40)\n",
    "print('A random forest ensemble has an accuracy of: {0:2.2f}%'.format(rfc_acc*100))\n",
    "print('-'*40)\n",
    "print('An ensemble using GBT has an accuracy of: {0:2.2f}%'.format(gbt_acc*100))"
   ]
  },
  {
   "cell_type": "code",
   "execution_count": null,
   "metadata": {},
   "outputs": [],
   "source": []
  }
 ],
 "metadata": {
  "kernelspec": {
   "display_name": "Python 3",
   "language": "python",
   "name": "python3"
  },
  "language_info": {
   "codemirror_mode": {
    "name": "ipython",
    "version": 3
   },
   "file_extension": ".py",
   "mimetype": "text/x-python",
   "name": "python",
   "nbconvert_exporter": "python",
   "pygments_lexer": "ipython3",
   "version": "3.5.2"
  }
 },
 "nbformat": 4,
 "nbformat_minor": 2
}
